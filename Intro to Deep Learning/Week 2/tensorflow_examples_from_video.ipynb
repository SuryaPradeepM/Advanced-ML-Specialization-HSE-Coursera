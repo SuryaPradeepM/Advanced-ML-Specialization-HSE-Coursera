{
 "cells": [
  {
   "cell_type": "markdown",
   "metadata": {
    "toc": true
   },
   "source": [
    "<h1>Contents<span class=\"tocSkip\"></span></h1>\n",
    "<div class=\"toc\"><ul class=\"toc-item\"><li><span><a href=\"#Video-&quot;What-is-TensorFlow&quot;\" data-toc-modified-id=\"Video-&quot;What-is-TensorFlow&quot;-1\"><span class=\"toc-item-num\">1&nbsp;&nbsp;</span>Video \"What is TensorFlow\"</a></span></li><li><span><a href=\"#Video-&quot;Our-first-model-in-TensorFlow&quot;\" data-toc-modified-id=\"Video-&quot;Our-first-model-in-TensorFlow&quot;-2\"><span class=\"toc-item-num\">2&nbsp;&nbsp;</span>Video \"Our first model in TensorFlow\"</a></span><ul class=\"toc-item\"><li><ul class=\"toc-item\"><li><span><a href=\"#Simple-optimization-(with-simple-prints)\" data-toc-modified-id=\"Simple-optimization-(with-simple-prints)-2.0.1\"><span class=\"toc-item-num\">2.0.1&nbsp;&nbsp;</span>Simple optimization (with simple prints)</a></span></li><li><span><a href=\"#Simple-optimization-(with-tf.Print)\" data-toc-modified-id=\"Simple-optimization-(with-tf.Print)-2.0.2\"><span class=\"toc-item-num\">2.0.2&nbsp;&nbsp;</span>Simple optimization (with tf.Print)</a></span></li><li><span><a href=\"#Simple-optimization-(with-TensorBoard-logging)\" data-toc-modified-id=\"Simple-optimization-(with-TensorBoard-logging)-2.0.3\"><span class=\"toc-item-num\">2.0.3&nbsp;&nbsp;</span>Simple optimization (with TensorBoard logging)</a></span></li><li><span><a href=\"#Training-a-linear-model\" data-toc-modified-id=\"Training-a-linear-model-2.0.4\"><span class=\"toc-item-num\">2.0.4&nbsp;&nbsp;</span>Training a linear model</a></span></li></ul></li></ul></li></ul></div>"
   ]
  },
  {
   "cell_type": "code",
   "execution_count": 2,
   "metadata": {
    "colab": {
     "base_uri": "https://localhost:8080/",
     "height": 34
    },
    "colab_type": "code",
    "id": "hm5ELKRwpQxM",
    "outputId": "9a28bbc6-364a-40a4-b60a-bdfb8cbe8671"
   },
   "outputs": [
    {
     "name": "stdout",
     "output_type": "stream",
     "text": [
      "TensorFlow 1.x selected.\n"
     ]
    }
   ],
   "source": [
    "# set tf 1.x for colab\n",
    "%tensorflow_version 1.x"
   ]
  },
  {
   "cell_type": "markdown",
   "metadata": {
    "colab_type": "text",
    "id": "euOHrWq7pQxb"
   },
   "source": [
    "# Video \"What is TensorFlow\""
   ]
  },
  {
   "cell_type": "code",
   "execution_count": 4,
   "metadata": {
    "colab": {},
    "colab_type": "code",
    "id": "43BUMwORpQxc"
   },
   "outputs": [],
   "source": [
    "%config IPCompleter.greedy=True"
   ]
  },
  {
   "cell_type": "code",
   "execution_count": 5,
   "metadata": {
    "colab": {
     "base_uri": "https://localhost:8080/",
     "height": 34
    },
    "colab_type": "code",
    "id": "RKsP1cr1pQxk",
    "outputId": "63d25269-df28-4325-92fa-27da28f54f0f"
   },
   "outputs": [
    {
     "name": "stdout",
     "output_type": "stream",
     "text": [
      "1.15.2\n"
     ]
    }
   ],
   "source": [
    "import tensorflow as tf\n",
    "import numpy as np\n",
    "print(tf.__version__)"
   ]
  },
  {
   "cell_type": "code",
   "execution_count": 6,
   "metadata": {
    "colab": {},
    "colab_type": "code",
    "id": "-RIRBACmpQxx"
   },
   "outputs": [],
   "source": [
    "tf.reset_default_graph()\n",
    "a = tf.placeholder(np.float32, (2, 2))\n",
    "b = tf.Variable(tf.ones((2, 2)))\n",
    "c = a @ b"
   ]
  },
  {
   "cell_type": "code",
   "execution_count": 7,
   "metadata": {
    "colab": {
     "base_uri": "https://localhost:8080/",
     "height": 34
    },
    "colab_type": "code",
    "id": "g4lLBwhupQx5",
    "outputId": "cb55f9a5-2258-4a33-893f-0b3cbf7a4b43"
   },
   "outputs": [
    {
     "name": "stdout",
     "output_type": "stream",
     "text": [
      "Tensor(\"matmul:0\", shape=(2, 2), dtype=float32)\n"
     ]
    }
   ],
   "source": [
    "print(c)"
   ]
  },
  {
   "cell_type": "code",
   "execution_count": 8,
   "metadata": {
    "colab": {},
    "colab_type": "code",
    "id": "iP1-hV3bpQyE"
   },
   "outputs": [],
   "source": [
    "s = tf.InteractiveSession()"
   ]
  },
  {
   "cell_type": "code",
   "execution_count": 9,
   "metadata": {
    "colab": {
     "base_uri": "https://localhost:8080/",
     "height": 52
    },
    "colab_type": "code",
    "id": "SfiABRT5pQyN",
    "outputId": "ccf8fcc0-5611-477b-e24c-2e9c90150f8e"
   },
   "outputs": [
    {
     "data": {
      "text/plain": [
       "array([[2., 2.],\n",
       "       [2., 2.]], dtype=float32)"
      ]
     },
     "execution_count": 9,
     "metadata": {
      "tags": []
     },
     "output_type": "execute_result"
    }
   ],
   "source": [
    "s.run(tf.global_variables_initializer())\n",
    "s.run(c, feed_dict={a: np.ones((2, 2))})"
   ]
  },
  {
   "cell_type": "code",
   "execution_count": 10,
   "metadata": {
    "colab": {},
    "colab_type": "code",
    "id": "sqqUgFlSpQyY"
   },
   "outputs": [],
   "source": [
    "s.close()"
   ]
  },
  {
   "cell_type": "markdown",
   "metadata": {
    "colab_type": "text",
    "id": "BORMZW1OpQyg"
   },
   "source": [
    "# Video \"Our first model in TensorFlow\""
   ]
  },
  {
   "cell_type": "markdown",
   "metadata": {
    "colab_type": "text",
    "id": "dYMU6YKHpQyh"
   },
   "source": [
    "### Simple optimization (with simple prints)"
   ]
  },
  {
   "cell_type": "code",
   "execution_count": 11,
   "metadata": {
    "colab": {},
    "colab_type": "code",
    "id": "q54cgrJ2pQyj"
   },
   "outputs": [],
   "source": [
    "tf.reset_default_graph()\n",
    "x = tf.get_variable(\"x\", shape=(), dtype=tf.float32, trainable=True)\n",
    "f = x ** 2"
   ]
  },
  {
   "cell_type": "code",
   "execution_count": 12,
   "metadata": {
    "colab": {
     "base_uri": "https://localhost:8080/",
     "height": 90
    },
    "colab_type": "code",
    "id": "ShHg-zHUpQys",
    "outputId": "efec3e0a-afb4-4be5-b636-5bf22831cc03"
   },
   "outputs": [
    {
     "name": "stdout",
     "output_type": "stream",
     "text": [
      "WARNING:tensorflow:From /tensorflow-1.15.2/python3.6/tensorflow_core/python/ops/math_grad.py:1375: where (from tensorflow.python.ops.array_ops) is deprecated and will be removed in a future version.\n",
      "Instructions for updating:\n",
      "Use tf.where in 2.0, which has the same broadcast rule as np.where\n"
     ]
    }
   ],
   "source": [
    "optimizer = tf.train.GradientDescentOptimizer(0.1, name = \"GD\")\n",
    "step = optimizer.minimize(f, var_list=[x])"
   ]
  },
  {
   "cell_type": "code",
   "execution_count": 13,
   "metadata": {
    "colab": {
     "base_uri": "https://localhost:8080/",
     "height": 34
    },
    "colab_type": "code",
    "id": "OyXbBRwfpQy0",
    "outputId": "e5cd4c23-bc1d-43e5-c6c6-b1df1e0456a8"
   },
   "outputs": [
    {
     "data": {
      "text/plain": [
       "[<tf.Variable 'x:0' shape=() dtype=float32_ref>]"
      ]
     },
     "execution_count": 13,
     "metadata": {
      "tags": []
     },
     "output_type": "execute_result"
    }
   ],
   "source": [
    "tf.trainable_variables()"
   ]
  },
  {
   "cell_type": "code",
   "execution_count": 14,
   "metadata": {
    "colab": {
     "base_uri": "https://localhost:8080/",
     "height": 193
    },
    "colab_type": "code",
    "id": "zEqA62bipQy_",
    "outputId": "3f5d265c-e5a6-48de-fcba-cbd81f7486c9"
   },
   "outputs": [
    {
     "name": "stdout",
     "output_type": "stream",
     "text": [
      "-0.7121898 0.7925223\n",
      "-0.56975186 0.5072143\n",
      "-0.4558015 0.32461718\n",
      "-0.3646412 0.207755\n",
      "-0.29171294 0.1329632\n",
      "-0.23337035 0.08509644\n",
      "-0.18669628 0.05446172\n",
      "-0.14935702 0.0348555\n",
      "-0.11948562 0.022307519\n",
      "-0.09558849 0.014276813\n"
     ]
    }
   ],
   "source": [
    "with tf.Session() as s:  # in this way session will be closed automatically\n",
    "    s.run(tf.global_variables_initializer())\n",
    "    for i in range(10):\n",
    "        _, curr_x, curr_f = s.run([step, x, f])\n",
    "        print(curr_x, curr_f)"
   ]
  },
  {
   "cell_type": "markdown",
   "metadata": {
    "colab_type": "text",
    "id": "vkoGovEHpQzH"
   },
   "source": [
    "### Simple optimization (with tf.Print)"
   ]
  },
  {
   "cell_type": "code",
   "execution_count": 15,
   "metadata": {
    "colab": {
     "base_uri": "https://localhost:8080/",
     "height": 107
    },
    "colab_type": "code",
    "id": "xcwdgcncpQzJ",
    "outputId": "414cb6da-9955-43e9-c5db-2591ef3a7540"
   },
   "outputs": [
    {
     "name": "stdout",
     "output_type": "stream",
     "text": [
      "WARNING:tensorflow:From <ipython-input-15-8d09ef88f18a>:4: Print (from tensorflow.python.ops.logging_ops) is deprecated and will be removed after 2018-08-20.\n",
      "Instructions for updating:\n",
      "Use tf.print instead of tf.Print. Note that tf.print returns a no-output operator that directly prints the output. Outside of defuns or eager mode, this operator will not be executed unless it is directly specified in session.run or used as a control dependency for other operators. This is only a concern in graph mode. Below is an example of how to ensure tf.print executes in graph mode:\n",
      "\n"
     ]
    }
   ],
   "source": [
    "tf.reset_default_graph()\n",
    "x = tf.get_variable(\"x\", shape=(), dtype=tf.float32)\n",
    "f = x ** 2\n",
    "f = tf.Print(f, [x, f], \"x, f:\")"
   ]
  },
  {
   "cell_type": "code",
   "execution_count": 16,
   "metadata": {
    "colab": {},
    "colab_type": "code",
    "id": "jf7pLgbzpQzS"
   },
   "outputs": [],
   "source": [
    "optimizer = tf.train.GradientDescentOptimizer(0.1)\n",
    "step = optimizer.minimize(f)"
   ]
  },
  {
   "cell_type": "code",
   "execution_count": 17,
   "metadata": {
    "colab": {},
    "colab_type": "code",
    "id": "lHz5HXSRpQzb"
   },
   "outputs": [],
   "source": [
    "with tf.Session() as s:\n",
    "    s.run(tf.global_variables_initializer())\n",
    "    for i in range(10):\n",
    "        s.run([step, f])"
   ]
  },
  {
   "cell_type": "code",
   "execution_count": null,
   "metadata": {
    "colab": {},
    "colab_type": "code",
    "id": "KMYvRa1epQzk"
   },
   "outputs": [],
   "source": [
    "# Prints to jupyter server stdout (not available in Coursera Notebooks):\n",
    "# 2018-07-21 18:01:27.308270: I tensorflow/core/kernels/logging_ops.cc:79] x, f:[-1.0670249][1.1385423]\n",
    "# 2018-07-21 18:01:27.308809: I tensorflow/core/kernels/logging_ops.cc:79] x, f:[-0.85361993][0.72866696]\n",
    "# 2018-07-21 18:01:27.309116: I tensorflow/core/kernels/logging_ops.cc:79] x, f:[-0.68289596][0.46634689]\n",
    "# 2018-07-21 18:01:27.309388: I tensorflow/core/kernels/logging_ops.cc:79] x, f:[-0.54631674][0.29846197]\n",
    "# 2018-07-21 18:01:27.309678: I tensorflow/core/kernels/logging_ops.cc:79] x, f:[-0.43705338][0.19101566]\n",
    "# 2018-07-21 18:01:27.309889: I tensorflow/core/kernels/logging_ops.cc:79] x, f:[-0.34964269][0.12225001]\n",
    "# 2018-07-21 18:01:27.310213: I tensorflow/core/kernels/logging_ops.cc:79] x, f:[-0.27971417][0.078240015]\n",
    "# 2018-07-21 18:01:27.310475: I tensorflow/core/kernels/logging_ops.cc:79] x, f:[-0.22377133][0.050073609]\n",
    "# 2018-07-21 18:01:27.310751: I tensorflow/core/kernels/logging_ops.cc:79] x, f:[-0.17901707][0.032047112]\n",
    "# 2018-07-21 18:01:27.310963: I tensorflow/core/kernels/logging_ops.cc:79] x, f:[-0.14321366][0.020510152]"
   ]
  },
  {
   "cell_type": "markdown",
   "metadata": {
    "colab_type": "text",
    "id": "yXeAuwynpQzu"
   },
   "source": [
    "### Simple optimization (with TensorBoard logging)"
   ]
  },
  {
   "cell_type": "code",
   "execution_count": 18,
   "metadata": {
    "colab": {},
    "colab_type": "code",
    "id": "4tSU9LQtpQzy"
   },
   "outputs": [],
   "source": [
    "tf.reset_default_graph()\n",
    "x = tf.get_variable(\"x\", shape=(), dtype=tf.float32)\n",
    "f = x ** 2"
   ]
  },
  {
   "cell_type": "code",
   "execution_count": 19,
   "metadata": {
    "colab": {},
    "colab_type": "code",
    "id": "ld6PPnbmpQ0D"
   },
   "outputs": [],
   "source": [
    "optimizer = tf.train.GradientDescentOptimizer(0.1)\n",
    "step = optimizer.minimize(f)"
   ]
  },
  {
   "cell_type": "code",
   "execution_count": 20,
   "metadata": {
    "colab": {},
    "colab_type": "code",
    "id": "XrCL_p_SpQ0K"
   },
   "outputs": [],
   "source": [
    "tf.summary.scalar('curr_x', x)\n",
    "tf.summary.scalar('curr_f', f)\n",
    "summaries = tf.summary.merge_all()"
   ]
  },
  {
   "cell_type": "code",
   "execution_count": 21,
   "metadata": {
    "colab": {},
    "colab_type": "code",
    "id": "Jlb3zn7zpQ0R"
   },
   "outputs": [],
   "source": [
    "s = tf.InteractiveSession()\n",
    "summary_writer = tf.summary.FileWriter(\"logs/1\", s.graph)\n",
    "s.run(tf.global_variables_initializer())\n",
    "for i in range(10):\n",
    "    _, curr_summaries = s.run([step, summaries])\n",
    "    summary_writer.add_summary(curr_summaries, i)\n",
    "    summary_writer.flush()"
   ]
  },
  {
   "cell_type": "markdown",
   "metadata": {
    "colab_type": "text",
    "id": "XP3EK6KRpQ0Y"
   },
   "source": [
    "Run  `tensorboard --logdir=./logs` in bash"
   ]
  },
  {
   "cell_type": "markdown",
   "metadata": {
    "colab_type": "text",
    "id": "m7_i7e1UpQ0Z"
   },
   "source": [
    "This is what you can see in your browser **(not available in Coursera Notebooks)**\n",
    "<img src=\"https://github.com/hse-aml/intro-to-dl/blob/master/week2/v2/images/TensorBoard.jpg?raw=1\" style=\"width:70%\">"
   ]
  },
  {
   "cell_type": "markdown",
   "metadata": {
    "colab_type": "text",
    "id": "XTHuYIPUpQ0a"
   },
   "source": [
    "**If you're running on Google Colab you can still run TensorBoard!**"
   ]
  },
  {
   "cell_type": "code",
   "execution_count": 22,
   "metadata": {
    "colab": {
     "base_uri": "https://localhost:8080/",
     "height": 246
    },
    "colab_type": "code",
    "id": "McbMco9MpQ0b",
    "outputId": "c6b65ae5-ae54-471c-d0c2-ee8ebf93c9e8"
   },
   "outputs": [
    {
     "name": "stdout",
     "output_type": "stream",
     "text": [
      "--2020-07-07 14:36:47--  https://raw.githubusercontent.com/hse-aml/intro-to-dl/master/setup_google_colab.py\n",
      "Resolving raw.githubusercontent.com (raw.githubusercontent.com)... 151.101.0.133, 151.101.64.133, 151.101.128.133, ...\n",
      "Connecting to raw.githubusercontent.com (raw.githubusercontent.com)|151.101.0.133|:443... connected.\n",
      "HTTP request sent, awaiting response... 200 OK\n",
      "Length: 3636 (3.6K) [text/plain]\n",
      "Saving to: ‘setup_google_colab.py’\n",
      "\n",
      "\r",
      "setup_google_colab.   0%[                    ]       0  --.-KB/s               \r",
      "setup_google_colab. 100%[===================>]   3.55K  --.-KB/s    in 0s      \n",
      "\n",
      "2020-07-07 14:36:48 (39.2 MB/s) - ‘setup_google_colab.py’ saved [3636/3636]\n",
      "\n",
      "Can't get public url, retrying...\n",
      "Open https://d336e0f0ff46.ngrok.io to access your 6006 port\n"
     ]
    }
   ],
   "source": [
    "# !!! RUN THIS CELL ONLY ON GOOGLE COLAB !!!\n",
    "! wget https://raw.githubusercontent.com/hse-aml/intro-to-dl/master/setup_google_colab.py -O setup_google_colab.py\n",
    "import setup_google_colab\n",
    "\n",
    "# run tensorboard in background\n",
    "import os\n",
    "os.system(\"tensorboard --logdir=./logs --host 0.0.0.0 --port 6006 &\")\n",
    "\n",
    "# expose port and show the link\n",
    "setup_google_colab.expose_port_on_colab(6006)"
   ]
  },
  {
   "cell_type": "code",
   "execution_count": 23,
   "metadata": {
    "colab": {},
    "colab_type": "code",
    "id": "gO_rTIOYpQ0h"
   },
   "outputs": [],
   "source": [
    "s.close()"
   ]
  },
  {
   "cell_type": "markdown",
   "metadata": {
    "colab_type": "text",
    "id": "M6DpiiZmpQ0n"
   },
   "source": [
    "### Training a linear model"
   ]
  },
  {
   "cell_type": "code",
   "execution_count": 24,
   "metadata": {
    "colab": {
     "base_uri": "https://localhost:8080/",
     "height": 52
    },
    "colab_type": "code",
    "id": "ReLzKiQopQ0o",
    "outputId": "0c6e4749-9a87-4466-94de-3da7b397741b"
   },
   "outputs": [
    {
     "name": "stdout",
     "output_type": "stream",
     "text": [
      "(1000, 3) (1000, 1)\n",
      "[[0.02825607 0.41690518 0.23000655]]\n"
     ]
    }
   ],
   "source": [
    "# generate model data\n",
    "N = 1000\n",
    "D = 3\n",
    "x = np.random.random((N, D))\n",
    "w = np.random.random((D, 1))\n",
    "y = x @ w + np.random.randn(N, 1) * 0.20\n",
    "\n",
    "print(x.shape, y.shape)\n",
    "print(w.T)"
   ]
  },
  {
   "cell_type": "code",
   "execution_count": 25,
   "metadata": {
    "colab": {
     "base_uri": "https://localhost:8080/",
     "height": 34
    },
    "colab_type": "code",
    "id": "-Lc3fzyxpQ0u",
    "outputId": "b0fb347e-b09f-45c1-ba57-2107abf6035c"
   },
   "outputs": [
    {
     "name": "stdout",
     "output_type": "stream",
     "text": [
      "(?, 1) (?, 1) ()\n"
     ]
    }
   ],
   "source": [
    "tf.reset_default_graph()\n",
    "\n",
    "features = tf.placeholder(tf.float32, shape=(None, D))\n",
    "target = tf.placeholder(tf.float32, shape=(None, 1))\n",
    "\n",
    "weights = tf.get_variable(\"weights\", shape=(D, 1), dtype=tf.float32)\n",
    "predictions = features @ weights\n",
    "\n",
    "loss = tf.reduce_mean((target - predictions) ** 2)\n",
    "\n",
    "print(target.shape, predictions.shape, loss.shape)"
   ]
  },
  {
   "cell_type": "code",
   "execution_count": 26,
   "metadata": {
    "colab": {},
    "colab_type": "code",
    "id": "j8ne4hiYpQ05"
   },
   "outputs": [],
   "source": [
    "optimizer = tf.train.GradientDescentOptimizer(0.1)\n",
    "step = optimizer.minimize(loss)"
   ]
  },
  {
   "cell_type": "code",
   "execution_count": 27,
   "metadata": {
    "colab": {
     "base_uri": "https://localhost:8080/",
     "height": 123
    },
    "colab_type": "code",
    "id": "LIsR-I9PpQ1A",
    "outputId": "070509d5-c184-4ad8-8d86-bd82f58a2ff8",
    "scrolled": true
   },
   "outputs": [
    {
     "name": "stdout",
     "output_type": "stream",
     "text": [
      "3.6005518\n",
      "0.036947723\n",
      "0.03684505\n",
      "0.036827404\n",
      "0.03682437\n",
      "0.03682385\n"
     ]
    }
   ],
   "source": [
    "with tf.Session() as s:\n",
    "    s.run(tf.global_variables_initializer())\n",
    "    for i in range(300):\n",
    "        _, curr_loss, curr_weights = s.run([step, loss, weights], \n",
    "                                           feed_dict={features: x, target: y})\n",
    "        if i % 50 == 0:\n",
    "            print(curr_loss)"
   ]
  },
  {
   "cell_type": "code",
   "execution_count": 28,
   "metadata": {
    "colab": {
     "base_uri": "https://localhost:8080/",
     "height": 34
    },
    "colab_type": "code",
    "id": "B-seRbCvpQ1J",
    "outputId": "be03f7c2-5eb0-4088-dbba-23e5355f5f66"
   },
   "outputs": [
    {
     "data": {
      "text/plain": [
       "array([[0.03287547, 0.3950068 , 0.25796315]], dtype=float32)"
      ]
     },
     "execution_count": 28,
     "metadata": {
      "tags": []
     },
     "output_type": "execute_result"
    }
   ],
   "source": [
    "# found weights\n",
    "curr_weights.T"
   ]
  },
  {
   "cell_type": "code",
   "execution_count": 29,
   "metadata": {
    "colab": {
     "base_uri": "https://localhost:8080/",
     "height": 34
    },
    "colab_type": "code",
    "id": "aCDJGtYTpQ1P",
    "outputId": "85e7720a-9c4b-48e9-a339-a37ebed47082"
   },
   "outputs": [
    {
     "data": {
      "text/plain": [
       "array([[0.02825607, 0.41690518, 0.23000655]])"
      ]
     },
     "execution_count": 29,
     "metadata": {
      "tags": []
     },
     "output_type": "execute_result"
    }
   ],
   "source": [
    "# true weights\n",
    "w.T"
   ]
  },
  {
   "cell_type": "code",
   "execution_count": null,
   "metadata": {
    "colab": {},
    "colab_type": "code",
    "id": "QSdtSh1xtq20"
   },
   "outputs": [],
   "source": []
  }
 ],
 "metadata": {
  "colab": {
   "name": "tensorflow_examples_from_video.ipynb",
   "provenance": []
  },
  "kernelspec": {
   "display_name": "Python 3",
   "language": "python",
   "name": "python3"
  },
  "language_info": {
   "codemirror_mode": {
    "name": "ipython",
    "version": 3
   },
   "file_extension": ".py",
   "mimetype": "text/x-python",
   "name": "python",
   "nbconvert_exporter": "python",
   "pygments_lexer": "ipython3",
   "version": "3.7.7"
  },
  "toc": {
   "base_numbering": 1,
   "nav_menu": {},
   "number_sections": true,
   "sideBar": true,
   "skip_h1_title": false,
   "title_cell": "Contents",
   "title_sidebar": "Contents",
   "toc_cell": true,
   "toc_position": {},
   "toc_section_display": true,
   "toc_window_display": false
  },
  "varInspector": {
   "cols": {
    "lenName": 16,
    "lenType": 16,
    "lenVar": 40
   },
   "kernels_config": {
    "python": {
     "delete_cmd_postfix": "",
     "delete_cmd_prefix": "del ",
     "library": "var_list.py",
     "varRefreshCmd": "print(var_dic_list())"
    },
    "r": {
     "delete_cmd_postfix": ") ",
     "delete_cmd_prefix": "rm(",
     "library": "var_list.r",
     "varRefreshCmd": "cat(var_dic_list()) "
    }
   },
   "types_to_exclude": [
    "module",
    "function",
    "builtin_function_or_method",
    "instance",
    "_Feature"
   ],
   "window_display": false
  }
 },
 "nbformat": 4,
 "nbformat_minor": 1
}
